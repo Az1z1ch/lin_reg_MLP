{
  "nbformat": 4,
  "nbformat_minor": 0,
  "metadata": {
    "colab": {
      "provenance": []
    },
    "kernelspec": {
      "name": "python3",
      "display_name": "Python 3"
    },
    "language_info": {
      "name": "python"
    }
  },
  "cells": [
    {
      "cell_type": "code",
      "execution_count": null,
      "metadata": {
        "id": "57cofkSEsjZi"
      },
      "outputs": [],
      "source": [
        "import pandas as pd\n",
        "import torch\n",
        "import torch.nn as nn\n",
        "import torch.optim as optim\n",
        "import numpy as np\n",
        "from torch.utils.data import DataLoader, TensorDataset\n",
        "from sklearn.model_selection import train_test_split\n",
        "from sklearn.compose import ColumnTransformer\n",
        "from sklearn.preprocessing import StandardScaler\n",
        "from sklearn.preprocessing import OneHotEncoder\n",
        "from sklearn.metrics import r2_score, mean_absolute_error"
      ]
    },
    {
      "cell_type": "code",
      "source": [
        "device = torch.device('cuda' if torch.cuda.is_available() else 'cpu')"
      ],
      "metadata": {
        "id": "Oqe3FFraAuiH"
      },
      "execution_count": null,
      "outputs": []
    },
    {
      "cell_type": "code",
      "source": [
        "data = pd.read_csv('Student_Performance.csv')"
      ],
      "metadata": {
        "id": "28YnH_O_zwIv"
      },
      "execution_count": null,
      "outputs": []
    },
    {
      "cell_type": "code",
      "source": [
        "print(data.isnull().sum())"
      ],
      "metadata": {
        "colab": {
          "base_uri": "https://localhost:8080/"
        },
        "id": "gXqnsaWq9-fG",
        "outputId": "5c842251-c590-49c5-fdf2-48137fa8324d"
      },
      "execution_count": null,
      "outputs": [
        {
          "output_type": "stream",
          "name": "stdout",
          "text": [
            "Hours Studied                       0\n",
            "Previous Scores                     0\n",
            "Extracurricular Activities          0\n",
            "Sleep Hours                         0\n",
            "Sample Question Papers Practiced    0\n",
            "Performance Index                   0\n",
            "dtype: int64\n"
          ]
        }
      ]
    },
    {
      "cell_type": "code",
      "source": [
        "print(data.duplicated().sum())"
      ],
      "metadata": {
        "colab": {
          "base_uri": "https://localhost:8080/"
        },
        "id": "ReTpAWyv-ZAk",
        "outputId": "d0190c77-899e-443f-f81a-fe26c800402a"
      },
      "execution_count": null,
      "outputs": [
        {
          "output_type": "stream",
          "name": "stdout",
          "text": [
            "127\n"
          ]
        }
      ]
    },
    {
      "cell_type": "code",
      "source": [
        "data = data.drop_duplicates()"
      ],
      "metadata": {
        "id": "cqFBabPC_I2f"
      },
      "execution_count": null,
      "outputs": []
    },
    {
      "cell_type": "code",
      "source": [
        "X = data.drop('Performance Index', axis=1)\n",
        "y = data['Performance Index'].values.reshape(-1, 1)\n",
        "X_train, X_test, y_train, y_test = train_test_split(X, y, test_size=0.2, random_state=42)"
      ],
      "metadata": {
        "id": "X5Axrx0T3YQ4"
      },
      "execution_count": null,
      "outputs": []
    },
    {
      "cell_type": "code",
      "source": [
        "preprocessor = ColumnTransformer([\n",
        "    ('onehot', OneHotEncoder(), ['Extracurricular Activities']),\n",
        "    ('numerical', StandardScaler(), ['Hours Studied', 'Previous Scores', 'Sleep Hours', 'Sample Question Papers Practiced'])\n",
        "])"
      ],
      "metadata": {
        "id": "Jhi9KXd59uQ3"
      },
      "execution_count": null,
      "outputs": []
    },
    {
      "cell_type": "code",
      "source": [
        "X_train_processed = preprocessor.fit_transform(X_train)\n",
        "X_test_processed = preprocessor.transform(X_test)"
      ],
      "metadata": {
        "id": "emxLgpEa-u14"
      },
      "execution_count": null,
      "outputs": []
    },
    {
      "cell_type": "code",
      "source": [
        "def to_tensor(x):\n",
        "  return torch.tensor(x if not hasattr(x, 'toarray') else x.toarray(), dtype=torch.float32).to(device)"
      ],
      "metadata": {
        "id": "ZFB-cjZj5sl0"
      },
      "execution_count": null,
      "outputs": []
    },
    {
      "cell_type": "code",
      "source": [
        "X_train_tensor = to_tensor(X_train_processed)\n",
        "y_train_tensor = to_tensor(y_train)\n",
        "X_test_tensor = to_tensor(X_test_processed)\n",
        "y_test_tensor = to_tensor(y_test)"
      ],
      "metadata": {
        "id": "vlPynY6SAzod"
      },
      "execution_count": null,
      "outputs": []
    },
    {
      "cell_type": "code",
      "source": [
        "class MLP_regression(nn.Module):\n",
        "  def __init__(self, input_dim):\n",
        "    super().__init__()\n",
        "    self.net = nn.Sequential(\n",
        "        nn.Linear(input_dim, 128),\n",
        "        nn.ReLU(),\n",
        "        nn.Linear(128, 64),\n",
        "        nn.ReLU(),\n",
        "        nn.Linear(64, 32),\n",
        "        nn.ReLU(),\n",
        "        nn.Linear(32, 1)\n",
        "    )\n",
        "  def forward(self, x):\n",
        "    return self.net(x)"
      ],
      "metadata": {
        "id": "x9VlLKkOJoBX"
      },
      "execution_count": null,
      "outputs": []
    },
    {
      "cell_type": "code",
      "source": [
        "model = MLP_regression(X_train_tensor.shape[1]).to(device)"
      ],
      "metadata": {
        "id": "-JlIP98bKdg4"
      },
      "execution_count": null,
      "outputs": []
    },
    {
      "cell_type": "code",
      "source": [
        "criterion = nn.MSELoss()\n",
        "optimizer = optim.Adam(model.parameters(), lr=0.001)"
      ],
      "metadata": {
        "id": "FyOpoyQEKtIM"
      },
      "execution_count": null,
      "outputs": []
    },
    {
      "cell_type": "code",
      "source": [
        "epochs = 1000\n",
        "for epoch in range(epochs):\n",
        "  outputs = model(X_train_tensor)\n",
        "  loss = criterion(outputs, y_train_tensor)\n",
        "\n",
        "  optimizer.zero_grad()\n",
        "  loss.backward()\n",
        "  optimizer.step()\n",
        "\n",
        "  if (epoch+1) % 100 == 0:\n",
        "        print(f'Epoch [{epoch+1}/{epochs}], Loss: {loss.item():.4f}')"
      ],
      "metadata": {
        "colab": {
          "base_uri": "https://localhost:8080/"
        },
        "id": "h_CdoJhzJLP5",
        "outputId": "817b6efd-923f-4e67-ad17-a98847e934de"
      },
      "execution_count": null,
      "outputs": [
        {
          "output_type": "stream",
          "name": "stdout",
          "text": [
            "Epoch [100/1000], Loss: 79.6065\n",
            "Epoch [200/1000], Loss: 31.7279\n",
            "Epoch [300/1000], Loss: 16.9677\n",
            "Epoch [400/1000], Loss: 7.7043\n",
            "Epoch [500/1000], Loss: 4.9273\n",
            "Epoch [600/1000], Loss: 4.4829\n",
            "Epoch [700/1000], Loss: 4.3814\n",
            "Epoch [800/1000], Loss: 4.3242\n",
            "Epoch [900/1000], Loss: 4.2820\n",
            "Epoch [1000/1000], Loss: 4.2503\n"
          ]
        }
      ]
    },
    {
      "cell_type": "code",
      "source": [
        "model.eval()\n",
        "with torch.no_grad():\n",
        "    test_preds = model(X_test_tensor)\n",
        "    test_loss = criterion(test_preds, y_test_tensor)\n",
        "\n",
        "    # Преобразование в numpy массивы\n",
        "    y_test_np = y_test_tensor.cpu().numpy()\n",
        "    test_preds_np = test_preds.cpu().numpy()\n",
        "\n",
        "    # Расчет метрик\n",
        "    mae = mean_absolute_error(y_test_np, test_preds_np)\n",
        "    r2 = r2_score(y_test_np, test_preds_np)\n",
        "    mse = test_loss.item()\n",
        "    rmse = np.sqrt(mse)\n",
        "\n",
        "    print(\"\\nEvaluation Metrics:\")\n",
        "    print(f\"MAE: {mae:.4f}\")\n",
        "    print(f\"R² Score: {r2:.4f}\")\n",
        "    print(f\"MSE: {mse:.4f}\")\n",
        "    print(f\"RMSE: {rmse:.4f}\")"
      ],
      "metadata": {
        "id": "gsgxHmp0MAjc",
        "colab": {
          "base_uri": "https://localhost:8080/"
        },
        "outputId": "7ff7f943-a526-4287-cd09-4823acd268e0"
      },
      "execution_count": null,
      "outputs": [
        {
          "output_type": "stream",
          "name": "stdout",
          "text": [
            "\n",
            "Evaluation Metrics:\n",
            "MAE: 1.6858\n",
            "R² Score: 0.9879\n",
            "MSE: 4.4999\n",
            "RMSE: 2.1213\n"
          ]
        }
      ]
    }
  ]
}